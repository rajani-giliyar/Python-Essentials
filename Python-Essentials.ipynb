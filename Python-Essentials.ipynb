{
 "cells": [
  {
   "cell_type": "code",
   "execution_count": 1,
   "id": "6ae90b03",
   "metadata": {
    "scrolled": false
   },
   "outputs": [
    {
     "name": "stdout",
     "output_type": "stream",
     "text": [
      "Hello Python World\n"
     ]
    }
   ],
   "source": [
    "\n",
    "print(\"Hello Python World\")"
   ]
  },
  {
   "cell_type": "code",
   "execution_count": null,
   "id": "743e825f",
   "metadata": {},
   "outputs": [],
   "source": []
  },
  {
   "cell_type": "code",
   "execution_count": 2,
   "id": "98172ee1",
   "metadata": {},
   "outputs": [
    {
     "name": "stdout",
     "output_type": "stream",
     "text": [
      "Hello Rajani\n"
     ]
    }
   ],
   "source": [
    "\n",
    "print(\"Hello Rajani\")"
   ]
  },
  {
   "cell_type": "code",
   "execution_count": 3,
   "id": "7eba71cc",
   "metadata": {},
   "outputs": [
    {
     "name": "stdout",
     "output_type": "stream",
     "text": [
      "Hey how are you\n"
     ]
    }
   ],
   "source": [
    "print(\"Hey how are you\")"
   ]
  },
  {
   "cell_type": "code",
   "execution_count": 6,
   "id": "03e0dc17",
   "metadata": {},
   "outputs": [
    {
     "name": "stdout",
     "output_type": "stream",
     "text": [
      "jhjd\n"
     ]
    }
   ],
   "source": [
    "print(\"jhjd\")"
   ]
  },
  {
   "cell_type": "markdown",
   "id": "00435870",
   "metadata": {},
   "source": []
  },
  {
   "cell_type": "code",
   "execution_count": 7,
   "id": "2e393154",
   "metadata": {},
   "outputs": [
    {
     "data": {
      "text/plain": [
       "10"
      ]
     },
     "execution_count": 7,
     "metadata": {},
     "output_type": "execute_result"
    }
   ],
   "source": [
    "a=10\n",
    "a"
   ]
  },
  {
   "cell_type": "code",
   "execution_count": 8,
   "id": "b9f692aa",
   "metadata": {},
   "outputs": [],
   "source": [
    "a=13"
   ]
  },
  {
   "cell_type": "code",
   "execution_count": 9,
   "id": "e32e0cc1",
   "metadata": {},
   "outputs": [
    {
     "data": {
      "text/plain": [
       "13"
      ]
     },
     "execution_count": 9,
     "metadata": {},
     "output_type": "execute_result"
    }
   ],
   "source": [
    "a"
   ]
  },
  {
   "cell_type": "code",
   "execution_count": 19,
   "id": "889e1c88",
   "metadata": {},
   "outputs": [
    {
     "data": {
      "text/plain": [
       "100"
      ]
     },
     "execution_count": 19,
     "metadata": {},
     "output_type": "execute_result"
    }
   ],
   "source": [
    "b=100\n",
    "b"
   ]
  },
  {
   "cell_type": "code",
   "execution_count": 20,
   "id": "9d0340aa",
   "metadata": {},
   "outputs": [
    {
     "data": {
      "text/plain": [
       "100"
      ]
     },
     "execution_count": 20,
     "metadata": {},
     "output_type": "execute_result"
    }
   ],
   "source": [
    "Letsupgrade=100\n",
    "\n",
    "Letsupgrade"
   ]
  },
  {
   "cell_type": "code",
   "execution_count": 5,
   "id": "7055cb42",
   "metadata": {},
   "outputs": [
    {
     "data": {
      "text/plain": [
       "1"
      ]
     },
     "execution_count": 5,
     "metadata": {},
     "output_type": "execute_result"
    }
   ],
   "source": [
    "a=1\n",
    "a"
   ]
  },
  {
   "cell_type": "code",
   "execution_count": 6,
   "id": "0f8fe2e7",
   "metadata": {},
   "outputs": [
    {
     "data": {
      "text/plain": [
       "100"
      ]
     },
     "execution_count": 6,
     "metadata": {},
     "output_type": "execute_result"
    }
   ],
   "source": [
    "vikko=100\n",
    "vikko"
   ]
  },
  {
   "cell_type": "code",
   "execution_count": 8,
   "id": "b4b10ad9",
   "metadata": {},
   "outputs": [
    {
     "data": {
      "text/plain": [
       "233"
      ]
     },
     "execution_count": 8,
     "metadata": {},
     "output_type": "execute_result"
    }
   ],
   "source": [
    "co_rajani=233\n",
    "co_rajani"
   ]
  },
  {
   "cell_type": "raw",
   "id": "9136c337",
   "metadata": {},
   "source": []
  },
  {
   "cell_type": "code",
   "execution_count": 12,
   "id": "9a29b8f3",
   "metadata": {},
   "outputs": [
    {
     "data": {
      "text/plain": [
       "100"
      ]
     },
     "execution_count": 12,
     "metadata": {},
     "output_type": "execute_result"
    }
   ],
   "source": [
    "list=100\n",
    "list"
   ]
  },
  {
   "cell_type": "code",
   "execution_count": 10,
   "id": "3c663234",
   "metadata": {},
   "outputs": [
    {
     "data": {
      "text/plain": [
       "100"
      ]
     },
     "execution_count": 10,
     "metadata": {},
     "output_type": "execute_result"
    }
   ],
   "source": [
    "List=100\n",
    "List"
   ]
  },
  {
   "cell_type": "code",
   "execution_count": 13,
   "id": "63e693b0",
   "metadata": {},
   "outputs": [
    {
     "name": "stdout",
     "output_type": "stream",
     "text": [
      "Rajani is a good girl.\n"
     ]
    }
   ],
   "source": [
    "a=\"Rajani is a good girl.\"\n",
    "print(a)"
   ]
  },
  {
   "cell_type": "code",
   "execution_count": 42,
   "id": "7561d24e",
   "metadata": {},
   "outputs": [
    {
     "name": "stdout",
     "output_type": "stream",
     "text": [
      "is a good girl.Rajani is 20 years old\n"
     ]
    }
   ],
   "source": [
    "character_name=\"Rajani\"\n",
    "character_age=\"20\"\n",
    "print(\"is a good girl.\"+character_name+ \" is \"+character_age+\" years old\")\n"
   ]
  },
  {
   "cell_type": "code",
   "execution_count": 40,
   "id": "db4a4e08",
   "metadata": {},
   "outputs": [
    {
     "name": "stdout",
     "output_type": "stream",
     "text": [
      "    /|\n",
      "   / |\n",
      "  /__|\n"
     ]
    }
   ],
   "source": [
    "print(\"    /|\")\n",
    "print(\"   / |\")\n",
    "print(\"  /__|\")\n",
    "\n",
    "      \n"
   ]
  },
  {
   "cell_type": "raw",
   "id": "73bdd203",
   "metadata": {},
   "source": []
  },
  {
   "cell_type": "code",
   "execution_count": 46,
   "id": "863d3aad",
   "metadata": {},
   "outputs": [
    {
     "name": "stdout",
     "output_type": "stream",
     "text": [
      "there was a man named jan ,\n",
      "he was 30 years old.\n",
      "He really liked the name man,\n",
      "but didnot like being 45.\n"
     ]
    }
   ],
   "source": [
    "character_name=\"jan\"\n",
    "character_age=\"30\"\n",
    "print(\"there was a man named \"  +character_name+ \" ,\")\n",
    "print(\"he was \"+character_age+ \" years old.\")\n",
    "character_name=\"man\"\n",
    "character_age=\"45\"\n",
    "print(\"He really liked the name \"+character_name+\",\")\n",
    "print(\"but didnot like being \"+character_age+\".\")"
   ]
  },
  {
   "cell_type": "code",
   "execution_count": 49,
   "id": "19aafc13",
   "metadata": {},
   "outputs": [
    {
     "name": "stdout",
     "output_type": "stream",
     "text": [
      "there was a man named jan ,\n",
      "he was 30 years old.\n",
      "He really liked the name man,\n",
      "but didnot like being 45.\n"
     ]
    }
   ],
   "source": [
    "character_name=\"jan\"\n",
    "character_age=\"30\"\n",
    "is_Male=True\n",
    "print(\"there was a man named \"  +character_name+ \" ,\")\n",
    "print(\"he was \"+character_age+ \" years old.\")\n",
    "character_name=\"man\"\n",
    "character_age=\"45\"\n",
    "print(\"He really liked the name \"+character_name+\",\")\n",
    "print(\"but didnot like being \"+character_age+\".\")"
   ]
  },
  {
   "cell_type": "code",
   "execution_count": 72,
   "id": "169fdde1",
   "metadata": {},
   "outputs": [
    {
     "name": "stdout",
     "output_type": "stream",
     "text": [
      "Giragge Acadamy\n"
     ]
    }
   ],
   "source": [
    "a=\"Giragge Acadamy\"\n",
    "print(a)"
   ]
  },
  {
   "cell_type": "code",
   "execution_count": 66,
   "id": "2e3d7a6b",
   "metadata": {},
   "outputs": [
    {
     "name": "stdout",
     "output_type": "stream",
     "text": [
      "raj shetty\n"
     ]
    }
   ],
   "source": [
    "a=\"Rajani shetty\"\n",
    "b=a.replace(\"Rajani\",\"raj\")\n",
    "print(b)"
   ]
  },
  {
   "cell_type": "code",
   "execution_count": 82,
   "id": "79f09c03",
   "metadata": {},
   "outputs": [
    {
     "name": "stdout",
     "output_type": "stream",
     "text": [
      "6\n"
     ]
    }
   ],
   "source": [
    "a=-6\n",
    "print(abs(a))"
   ]
  },
  {
   "cell_type": "markdown",
   "id": "142ee362",
   "metadata": {},
   "source": []
  },
  {
   "cell_type": "code",
   "execution_count": 83,
   "id": "bf291f4d",
   "metadata": {},
   "outputs": [
    {
     "name": "stdout",
     "output_type": "stream",
     "text": [
      "[2, 4, 'true', 6]\n"
     ]
    }
   ],
   "source": [
    "L1=[2,4,\"true\",6]\n",
    "print(L1)"
   ]
  },
  {
   "cell_type": "code",
   "execution_count": 8,
   "id": "5efc51fc",
   "metadata": {},
   "outputs": [
    {
     "ename": "TypeError",
     "evalue": "'set' object does not support item assignment",
     "output_type": "error",
     "traceback": [
      "\u001b[1;31m---------------------------------------------------------------------------\u001b[0m",
      "\u001b[1;31mTypeError\u001b[0m                                 Traceback (most recent call last)",
      "Input \u001b[1;32mIn [8]\u001b[0m, in \u001b[0;36m<cell line: 2>\u001b[1;34m()\u001b[0m\n\u001b[0;32m      1\u001b[0m L1\u001b[38;5;241m=\u001b[39m[\u001b[38;5;241m2\u001b[39m,\u001b[38;5;241m4\u001b[39m,\u001b[38;5;124m\"\u001b[39m\u001b[38;5;124mtrue\u001b[39m\u001b[38;5;124m\"\u001b[39m,\u001b[38;5;241m6\u001b[39m]\n\u001b[1;32m----> 2\u001b[0m a[\u001b[38;5;241m0\u001b[39m]\u001b[38;5;241m=\u001b[39m\u001b[38;5;241m9\u001b[39m\n",
      "\u001b[1;31mTypeError\u001b[0m: 'set' object does not support item assignment"
     ]
    }
   ],
   "source": [
    "L1=[2,4,\"true\",6]\n",
    "a[0]=9"
   ]
  },
  {
   "cell_type": "code",
   "execution_count": 86,
   "id": "4b3e82d8",
   "metadata": {},
   "outputs": [
    {
     "name": "stdout",
     "output_type": "stream",
     "text": [
      "[4, 'true', 6, 6]\n"
     ]
    }
   ],
   "source": [
    "L1=[2,4,\"true\",6]\n",
    "print(L1)"
   ]
  },
  {
   "cell_type": "code",
   "execution_count": 87,
   "id": "947fb87d",
   "metadata": {},
   "outputs": [
    {
     "name": "stdout",
     "output_type": "stream",
     "text": [
      "[2, 4, 'true', 6]\n"
     ]
    }
   ],
   "source": [
    "L1=[2,4,\"true\",6]\n",
    "print(L1)\n"
   ]
  },
  {
   "cell_type": "code",
   "execution_count": 89,
   "id": "19ab2efd",
   "metadata": {},
   "outputs": [
    {
     "name": "stdout",
     "output_type": "stream",
     "text": [
      "[2, 4, 'true', 6, 2, 'rah', 4, 6]\n"
     ]
    }
   ],
   "source": [
    "L1=[2,4,\"true\",6]\n",
    "L2=[\"rah\",4,6]\n",
    "L1.append(2)\n",
    "L1.extend(L2)\n",
    "print(L1)"
   ]
  },
  {
   "cell_type": "code",
   "execution_count": 92,
   "id": "4012d498",
   "metadata": {},
   "outputs": [
    {
     "name": "stdout",
     "output_type": "stream",
     "text": [
      "['rah', 4, 6]\n"
     ]
    }
   ],
   "source": [
    "L1=[2,4,\"true\",6]\n",
    "L2=[\"rah\",4,6]\n",
    "L1.append(2)\n",
    "L1.extend(L2)\n",
    "print( L2)"
   ]
  },
  {
   "cell_type": "code",
   "execution_count": 96,
   "id": "938f0004",
   "metadata": {},
   "outputs": [
    {
     "name": "stdout",
     "output_type": "stream",
     "text": [
      "['rah', 4, 6, 2, 'rah', 4, 6]\n",
      "rah\n",
      "4\n",
      "6\n",
      "2\n",
      "rah\n",
      "4\n",
      "6\n"
     ]
    }
   ],
   "source": [
    "T=[2,4,\"true\",6]\n",
    "T=[\"rah\",4,6]\n",
    "T.append(2)\n",
    "T.extend(L2)\n",
    "print(T)\n",
    "for ele in T:\n",
    "    print(ele)"
   ]
  },
  {
   "cell_type": "code",
   "execution_count": 97,
   "id": "491d22b9",
   "metadata": {},
   "outputs": [
    {
     "name": "stdout",
     "output_type": "stream",
     "text": [
      "[2, 4, 'true', 6, 2, 'rah', 4, 6]\n"
     ]
    }
   ],
   "source": [
    "L1=[2,4,\"true\",6]\n",
    "L2=[\"rah\",4,6]\n",
    "L1.append(2)\n",
    "L1.extend(L2)\n",
    "print(L1)"
   ]
  },
  {
   "cell_type": "code",
   "execution_count": 100,
   "id": "2fb78647",
   "metadata": {},
   "outputs": [
    {
     "name": "stdout",
     "output_type": "stream",
     "text": [
      "{2, 4, 'true', 6}\n"
     ]
    }
   ],
   "source": [
    "L1={2,4,\"true\",6}\n",
    "L2={\"rah\",4,6}\n",
    "\n",
    "print(L1)"
   ]
  },
  {
   "cell_type": "code",
   "execution_count": 101,
   "id": "6ab54dba",
   "metadata": {},
   "outputs": [
    {
     "name": "stdout",
     "output_type": "stream",
     "text": [
      "{2, 4, 'true'}\n"
     ]
    }
   ],
   "source": [
    "L1={2,4,\"true\",6}\n",
    "L2={\"rah\",4,6}\n",
    "L1.remove(6)\n",
    "print(L1)"
   ]
  },
  {
   "cell_type": "code",
   "execution_count": 102,
   "id": "f8e53ec1",
   "metadata": {},
   "outputs": [
    {
     "name": "stdout",
     "output_type": "stream",
     "text": [
      "{2, 4, 'true', 6} \n",
      " {'rah', 4, 6}\n"
     ]
    }
   ],
   "source": [
    "L1={2,4,\"true\",6}\n",
    "L2={\"rah\",4,6}\n",
    "\n",
    "print(L1,\"\\n\",L2)"
   ]
  },
  {
   "cell_type": "code",
   "execution_count": 103,
   "id": "539c2b29",
   "metadata": {},
   "outputs": [
    {
     "name": "stdout",
     "output_type": "stream",
     "text": [
      "{2, 4, 'true', 6} \n",
      " {'rah', 4, 6} \n",
      " {'rah', 2, 4, 'true', 6}\n"
     ]
    }
   ],
   "source": [
    "L1={2,4,\"true\",6}\n",
    "L2={\"rah\",4,6}\n",
    "L3=L1.union(L2)\n",
    "print(L1,\"\\n\",L2,\"\\n\",L3)"
   ]
  },
  {
   "cell_type": "code",
   "execution_count": 104,
   "id": "62d418ec",
   "metadata": {},
   "outputs": [
    {
     "name": "stdout",
     "output_type": "stream",
     "text": [
      "{2, 4, 'true', 6}\n"
     ]
    }
   ],
   "source": [
    "L1={2,4,\"true\",6}\n",
    "L2={\"rah\",4,6}\n",
    "\n",
    "print(L1)"
   ]
  },
  {
   "cell_type": "code",
   "execution_count": 105,
   "id": "76b44a36",
   "metadata": {},
   "outputs": [
    {
     "name": "stdout",
     "output_type": "stream",
     "text": [
      "{2, 4, 'true', 6} \n",
      " {'rah', 4, 6} \n",
      " {'rah', 2, 4, 'true', 6} \n",
      " {2, 4, 'true', 6}\n"
     ]
    }
   ],
   "source": [
    "L1={2,4,\"true\",6}\n",
    "L2={\"rah\",4,6}\n",
    "L3=L1.union(L2)\n",
    "L4=L3.intersection(L1)\n",
    "print(L1,\"\\n\",L2,\"\\n\",L3,\"\\n\",L4)"
   ]
  },
  {
   "cell_type": "code",
   "execution_count": 106,
   "id": "82eb36f6",
   "metadata": {},
   "outputs": [
    {
     "name": "stdout",
     "output_type": "stream",
     "text": [
      "odd\n"
     ]
    }
   ],
   "source": [
    "x=7\n",
    "r=x%2\n",
    "if r==0:\n",
    "    print(\"even\")\n",
    "if(r==1):\n",
    "    print(\"odd\")"
   ]
  },
  {
   "cell_type": "code",
   "execution_count": 114,
   "id": "d5ef7a53",
   "metadata": {},
   "outputs": [
    {
     "name": "stdout",
     "output_type": "stream",
     "text": [
      "odd\n"
     ]
    }
   ],
   "source": [
    "x=3\n",
    "r=x%2\n",
    "if r==0:\n",
    "    print(\"even\")\n",
    "    if(x>5):\n",
    "      print(\"good\")\n",
    "    else:\n",
    "      print(\"bad\")\n",
    "else:\n",
    "    print(\"odd\")\n",
    "        "
   ]
  },
  {
   "cell_type": "code",
   "execution_count": 116,
   "id": "b6e594e8",
   "metadata": {},
   "outputs": [
    {
     "name": "stdout",
     "output_type": "stream",
     "text": [
      "enter a number 583262794346786\n",
      "even\n",
      "good\n"
     ]
    }
   ],
   "source": [
    "x=int(input(\"enter a number \"))\n",
    "r=x%2\n",
    "if r==0:\n",
    "    print(\"even\")\n",
    "    if(x>5):\n",
    "      print(\"good\")\n",
    "    else:\n",
    "      print(\"bad\")\n",
    "else:\n",
    "    print(\"odd\")\n",
    "        "
   ]
  },
  {
   "cell_type": "code",
   "execution_count": 117,
   "id": "6bd9c5f1",
   "metadata": {},
   "outputs": [
    {
     "name": "stdout",
     "output_type": "stream",
     "text": [
      "enter a number 979097856666798643\n",
      "odd\n"
     ]
    }
   ],
   "source": [
    "x=int(input(\"enter a number \"))\n",
    "r=x%2\n",
    "if r==0:\n",
    "    print(\"even\")\n",
    "    if(x>5):\n",
    "      print(\"good\")\n",
    "    else:\n",
    "      print(\"bad\")\n",
    "else:\n",
    "    print(\"odd\")\n",
    "        "
   ]
  },
  {
   "cell_type": "code",
   "execution_count": 119,
   "id": "a386f985",
   "metadata": {},
   "outputs": [
    {
     "name": "stdout",
     "output_type": "stream",
     "text": [
      "enter a number 56.8765\n",
      "odd\n"
     ]
    }
   ],
   "source": [
    "rajqani"
   ]
  },
  {
   "cell_type": "code",
   "execution_count": 11,
   "id": "e2d46693",
   "metadata": {},
   "outputs": [
    {
     "name": "stdout",
     "output_type": "stream",
     "text": [
      "['a', 3, 'e', 8, 1, 3]\n"
     ]
    }
   ],
   "source": [
    "a=[1,3]\n",
    "b=[\"a\",3,\"e\",8]\n",
    "b.extend(a)\n",
    "print(b)\n",
    "\n",
    "\n"
   ]
  },
  {
   "cell_type": "code",
   "execution_count": 22,
   "id": "1f6cda77",
   "metadata": {},
   "outputs": [
    {
     "name": "stdout",
     "output_type": "stream",
     "text": [
      "0\n"
     ]
    }
   ],
   "source": [
    "a=\"ramkumar\"\n",
    "print(a.index(\"r\"))"
   ]
  },
  {
   "cell_type": "code",
   "execution_count": 1,
   "id": "a3d10272",
   "metadata": {},
   "outputs": [
    {
     "name": "stdout",
     "output_type": "stream",
     "text": [
      "ramkumar\n",
      "u\n",
      "2\n"
     ]
    }
   ],
   "source": [
    "a=\"rajkumar\"\n",
    "b=a.replace(\"raj\",\"ram\")\n",
    "print(b)\n",
    "print(b[4])\n",
    "print(b.index(\"m\"))"
   ]
  },
  {
   "cell_type": "code",
   "execution_count": 18,
   "id": "7ca17d45",
   "metadata": {},
   "outputs": [
    {
     "name": "stdout",
     "output_type": "stream",
     "text": [
      "[2, 3, 4, 5, 333, 343, 555, 999, 2, 3, 4, 5, 333, 343, 555]\n"
     ]
    }
   ],
   "source": [
    "a=[2,3,555,4,5,3,333,343]\n",
    "a.sort()\n",
    "a.remove(3)\n",
    "b=a.copy()\n",
    "a.append(999)\n",
    "a.extend(b)\n",
    "a.count(3)\n",
    "print(a)\n"
   ]
  },
  {
   "cell_type": "code",
   "execution_count": 55,
   "id": "e280f67a",
   "metadata": {},
   "outputs": [
    {
     "name": "stdout",
     "output_type": "stream",
     "text": [
      "[2, 3, 555, 4, 5, 3, 333, 343] \n",
      " [2, 39, 4, 2, 3, 555, 4, 5, 3, 333, 343] \n",
      " [2, 3, 555, 4, 5, 3, 333, 343] \n",
      " True \n",
      " True\n"
     ]
    }
   ],
   "source": [
    "a=[2,3,555,4,5,3,333,343]\n",
    "b=[2,39,4]\n",
    "c=a.copy()\n",
    "b.extend(a)\n",
    "print(a,\"\\n\",b,\"\\n\",c,\"\\n\",\"s\"not in a,\"\\n\",2 in b)\n",
    "\n",
    "\n",
    "\n",
    "\n",
    "\n",
    "\n"
   ]
  },
  {
   "cell_type": "code",
   "execution_count": 37,
   "id": "a5122419",
   "metadata": {},
   "outputs": [
    {
     "name": "stdout",
     "output_type": "stream",
     "text": [
      "[2, 3, 555, 4, 5, 3, 333, 343]\n",
      "2\n",
      "3\n",
      "555\n",
      "4\n",
      "5\n",
      "3\n",
      "333\n",
      "343\n",
      "[2, 3, 555, 'rajani', 5, 3, 333, 343]\n"
     ]
    }
   ],
   "source": [
    "a=[2,3,555,4,5,3,333,343]\n",
    "print(a)\n",
    "for ele in a:\n",
    "    print(ele)\n",
    "a[3]=\"rajani\"\n",
    "print(a)"
   ]
  },
  {
   "cell_type": "code",
   "execution_count": 56,
   "id": "f500b513",
   "metadata": {},
   "outputs": [
    {
     "name": "stdout",
     "output_type": "stream",
     "text": [
      "{6}\n"
     ]
    }
   ],
   "source": [
    "a={7,6,5}\n",
    "b={\"t\",77,66,6}\n",
    "print(a.intersection(b))\n"
   ]
  },
  {
   "cell_type": "code",
   "execution_count": 50,
   "id": "69c22443",
   "metadata": {},
   "outputs": [
    {
     "name": "stdout",
     "output_type": "stream",
     "text": [
      "{5, 6, 7} \n",
      " {'t', 66, 77, 6} \n",
      " {66, 77, 5, 6, 7, 't'}\n"
     ]
    }
   ],
   "source": [
    "a={7,6,5}\n",
    "b={\"t\",77,66,6}\n",
    "c=a.union(b)\n",
    "print(a,\"\\n\",b,\"\\n\",c)"
   ]
  },
  {
   "cell_type": "code",
   "execution_count": 9,
   "id": "89e31032",
   "metadata": {},
   "outputs": [
    {
     "name": "stdout",
     "output_type": "stream",
     "text": [
      "{1, 2, 3, 4, 5}\n",
      "False\n",
      "True\n"
     ]
    }
   ],
   "source": [
    "a={1,2,3,4,5}\n",
    "b={1,2,3,4,5,6,7,8}\n",
    "print(a)\n",
    "print(a.issuperset(b))\n",
    "print(a.issubset(b))\n"
   ]
  },
  {
   "cell_type": "code",
   "execution_count": 17,
   "id": "d96d2677",
   "metadata": {},
   "outputs": [
    {
     "name": "stdout",
     "output_type": "stream",
     "text": [
      "q\n"
     ]
    }
   ],
   "source": [
    "print(\"q\")"
   ]
  },
  {
   "cell_type": "code",
   "execution_count": 35,
   "id": "8be3f52d",
   "metadata": {},
   "outputs": [
    {
     "name": "stdout",
     "output_type": "stream",
     "text": [
      "enter a number= 1\n",
      "enter anither number= 1\n",
      "what nonsense\n"
     ]
    }
   ],
   "source": [
    "x=int(input(\"enter a number= \"))\n",
    "y=int(input(\"enter anither number= \"))\n",
    "if x==y and x<y:\n",
    "    print(\"hello\")\n",
    "    if x>=3:\n",
    "        print(\"great\")\n",
    "else:\n",
    "    print(\"what nonsense\")\n",
    "  "
   ]
  },
  {
   "cell_type": "code",
   "execution_count": 38,
   "id": "2916e031",
   "metadata": {},
   "outputs": [
    {
     "name": "stdout",
     "output_type": "stream",
     "text": [
      "1\n",
      "3\n",
      "5\n",
      "7\n",
      "9\n",
      "11\n",
      "13\n",
      "15\n",
      "17\n",
      "19\n",
      "21\n",
      "23\n",
      "25\n",
      "27\n",
      "29\n",
      "31\n",
      "33\n",
      "35\n",
      "37\n",
      "39\n",
      "41\n",
      "43\n",
      "45\n",
      "47\n",
      "49\n",
      "51\n",
      "53\n",
      "55\n",
      "57\n",
      "59\n",
      "61\n",
      "63\n",
      "65\n",
      "67\n",
      "69\n",
      "71\n",
      "73\n",
      "75\n",
      "77\n",
      "79\n",
      "81\n",
      "83\n",
      "85\n",
      "87\n",
      "89\n",
      "91\n",
      "93\n",
      "95\n",
      "97\n",
      "99\n"
     ]
    }
   ],
   "source": [
    "for ele in range(1,100,2):\n",
    "    print(ele)"
   ]
  },
  {
   "cell_type": "code",
   "execution_count": 41,
   "id": "43dc19d2",
   "metadata": {},
   "outputs": [
    {
     "name": "stdout",
     "output_type": "stream",
     "text": [
      "enter a number99\n",
      "odd\n"
     ]
    }
   ],
   "source": [
    "x=int(input(\"enter a number\"))\n",
    "if x%2==0:\n",
    "    print(\"even\")\n",
    "else:\n",
    "    print(\"odd\")"
   ]
  },
  {
   "cell_type": "code",
   "execution_count": 50,
   "id": "c6821e2e",
   "metadata": {},
   "outputs": [
    {
     "name": "stdout",
     "output_type": "stream",
     "text": [
      "enter a number100\n",
      "even\n",
      "tats\n"
     ]
    }
   ],
   "source": [
    "x=int(input(\"enter a number\"))\n",
    "r=x%2\n",
    "if r==0:\n",
    "    print(\"even\")\n",
    "    if x>100:\n",
    "        print(\"hii\")\n",
    "    elif x<100:\n",
    "        print(\"byr\")\n",
    "    else:\n",
    "        print(\"tats\")\n",
    "elif x%2!=0:\n",
    "    print(\"odd\")\n",
    "else:\n",
    "    print(\"error\")"
   ]
  },
  {
   "cell_type": "code",
   "execution_count": 3,
   "id": "5518f30a",
   "metadata": {},
   "outputs": [
    {
     "name": "stdout",
     "output_type": "stream",
     "text": [
      "hii\n"
     ]
    }
   ],
   "source": [
    "#hiiiiii\n",
    "print(\"hii\")\n"
   ]
  },
  {
   "cell_type": "code",
   "execution_count": 4,
   "id": "f948e142",
   "metadata": {},
   "outputs": [
    {
     "data": {
      "text/plain": [
       "'#hihiuyhjhfetryh'"
      ]
     },
     "execution_count": 4,
     "metadata": {},
     "output_type": "execute_result"
    }
   ],
   "source": [
    "\"#hihiuyhjhfetryh\""
   ]
  },
  {
   "cell_type": "markdown",
   "id": "823e64da",
   "metadata": {},
   "source": [
    "# single line comment"
   ]
  },
  {
   "cell_type": "markdown",
   "id": "d5a4d506",
   "metadata": {},
   "source": [
    "# single line comment\n"
   ]
  },
  {
   "cell_type": "code",
   "execution_count": 5,
   "id": "148a6ec6",
   "metadata": {},
   "outputs": [
    {
     "data": {
      "text/plain": [
       "5"
      ]
     },
     "execution_count": 5,
     "metadata": {},
     "output_type": "execute_result"
    }
   ],
   "source": [
    "#lets  do a additio\n",
    "a=2\n",
    "b=3\n",
    "a+b"
   ]
  },
  {
   "cell_type": "markdown",
   "id": "0f69fefc",
   "metadata": {},
   "source": [
    "# multi line comment(means we can use multiple sentence after hashtags"
   ]
  },
  {
   "cell_type": "code",
   "execution_count": 6,
   "id": "275442dd",
   "metadata": {},
   "outputs": [
    {
     "data": {
      "text/plain": [
       "-18"
      ]
     },
     "execution_count": 6,
     "metadata": {},
     "output_type": "execute_result"
    }
   ],
   "source": [
    "#we can comment anything\n",
    "#we can add,\n",
    "#we can sub,div and multiply\n",
    "a=2\n",
    "b=-9\n",
    "a*b"
   ]
  },
  {
   "cell_type": "markdown",
   "id": "1cac0e64",
   "metadata": {},
   "source": [
    "# we use hashtag for single line and multiple line and docstring for comment something in output after variable declaration"
   ]
  },
  {
   "cell_type": "code",
   "execution_count": null,
   "id": "171f7848",
   "metadata": {},
   "outputs": [],
   "source": []
  },
  {
   "cell_type": "code",
   "execution_count": null,
   "id": "afbe7100",
   "metadata": {},
   "outputs": [],
   "source": []
  },
  {
   "cell_type": "code",
   "execution_count": null,
   "id": "420704a7",
   "metadata": {},
   "outputs": [],
   "source": []
  },
  {
   "cell_type": "code",
   "execution_count": null,
   "id": "988ff91e",
   "metadata": {},
   "outputs": [],
   "source": []
  },
  {
   "cell_type": "code",
   "execution_count": null,
   "id": "43bb9f20",
   "metadata": {},
   "outputs": [],
   "source": []
  },
  {
   "cell_type": "markdown",
   "id": "7d79dbce",
   "metadata": {},
   "source": [
    "# docstring are used for (when we want some nformtion print in ouput at that time we use 3 double coat) after we write comment means print statement example is below"
   ]
  },
  {
   "cell_type": "code",
   "execution_count": 7,
   "id": "0fc30f2d",
   "metadata": {},
   "outputs": [
    {
     "data": {
      "text/plain": [
       "8"
      ]
     },
     "execution_count": 7,
     "metadata": {},
     "output_type": "execute_result"
    }
   ],
   "source": [
    "\"\"\"\n",
    "look at the examle\n",
    "\n",
    "\"\"\"\n",
    "a=3\n",
    "b=5\n",
    "a+b"
   ]
  },
  {
   "cell_type": "code",
   "execution_count": 1,
   "id": "1eb7aa7d",
   "metadata": {},
   "outputs": [
    {
     "name": "stdout",
     "output_type": "stream",
     "text": [
      "59\n"
     ]
    }
   ],
   "source": [
    "a=3\n",
    "b=56\n",
    "print(a+b)\n"
   ]
  },
  {
   "cell_type": "markdown",
   "id": "a915593c",
   "metadata": {},
   "source": [
    "# variable and datatype variable in python are case sensitive means we declare a variable upper case and lower case are not at all same"
   ]
  },
  {
   "cell_type": "code",
   "execution_count": 4,
   "id": "971ff58a",
   "metadata": {},
   "outputs": [],
   "source": [
    "x=12\n",
    "y=23\n"
   ]
  },
  {
   "cell_type": "code",
   "execution_count": 5,
   "id": "cb549b30",
   "metadata": {},
   "outputs": [
    {
     "data": {
      "text/plain": [
       "35"
      ]
     },
     "execution_count": 5,
     "metadata": {},
     "output_type": "execute_result"
    }
   ],
   "source": [
    "x+y"
   ]
  },
  {
   "cell_type": "code",
   "execution_count": 6,
   "id": "cffd280b",
   "metadata": {},
   "outputs": [
    {
     "data": {
      "text/plain": [
       "-11"
      ]
     },
     "execution_count": 6,
     "metadata": {},
     "output_type": "execute_result"
    }
   ],
   "source": [
    "x-y"
   ]
  },
  {
   "cell_type": "raw",
   "id": "7d671092",
   "metadata": {},
   "source": []
  },
  {
   "cell_type": "markdown",
   "id": "cf029190",
   "metadata": {},
   "source": [
    "# Variable datatype in python \n",
    "#numerical\n",
    "#string\n",
    "#list\n",
    "#dictionary\n",
    "#tuple\n",
    "#set\n",
    "\n"
   ]
  },
  {
   "cell_type": "code",
   "execution_count": 1,
   "id": "37813452",
   "metadata": {},
   "outputs": [
    {
     "data": {
      "text/plain": [
       "int"
      ]
     },
     "execution_count": 1,
     "metadata": {},
     "output_type": "execute_result"
    }
   ],
   "source": [
    "x=10 \n",
    "type(x)"
   ]
  },
  {
   "cell_type": "code",
   "execution_count": 9,
   "id": "5c944005",
   "metadata": {},
   "outputs": [
    {
     "data": {
      "text/plain": [
       "float"
      ]
     },
     "execution_count": 9,
     "metadata": {},
     "output_type": "execute_result"
    }
   ],
   "source": [
    "x=10.3445\n",
    "type(x)"
   ]
  },
  {
   "cell_type": "code",
   "execution_count": 12,
   "id": "ca815913",
   "metadata": {},
   "outputs": [
    {
     "name": "stdout",
     "output_type": "stream",
     "text": [
      "<class 'complex'>\n"
     ]
    }
   ],
   "source": [
    "x=10j\n",
    "print(type(x))"
   ]
  },
  {
   "cell_type": "code",
   "execution_count": 10,
   "id": "1d484083",
   "metadata": {},
   "outputs": [
    {
     "data": {
      "text/plain": [
       "complex"
      ]
     },
     "execution_count": 10,
     "metadata": {},
     "output_type": "execute_result"
    }
   ],
   "source": [
    "x=10j\n",
    "type(x)"
   ]
  },
  {
   "cell_type": "code",
   "execution_count": 15,
   "id": "d165716c",
   "metadata": {},
   "outputs": [
    {
     "name": "stdout",
     "output_type": "stream",
     "text": [
      "<class 'bool'>\n"
     ]
    }
   ],
   "source": [
    "x=9<8\n",
    "print(type(x))"
   ]
  },
  {
   "cell_type": "code",
   "execution_count": 2,
   "id": "ff3960ba",
   "metadata": {},
   "outputs": [
    {
     "name": "stdout",
     "output_type": "stream",
     "text": [
      "False <class 'bool'>\n"
     ]
    }
   ],
   "source": [
    "x=9==8\n",
    "print(x,type(x))"
   ]
  },
  {
   "cell_type": "code",
   "execution_count": 16,
   "id": "38fc9412",
   "metadata": {},
   "outputs": [
    {
     "data": {
      "text/plain": [
       "'m'"
      ]
     },
     "execution_count": 16,
     "metadata": {},
     "output_type": "execute_result"
    }
   ],
   "source": [
    "x=\"rajkumar\"\n",
    "x[5]"
   ]
  },
  {
   "cell_type": "code",
   "execution_count": 24,
   "id": "c242cdbc",
   "metadata": {},
   "outputs": [
    {
     "data": {
      "text/plain": [
       "'k'"
      ]
     },
     "execution_count": 24,
     "metadata": {},
     "output_type": "execute_result"
    }
   ],
   "source": [
    "x[3]"
   ]
  },
  {
   "cell_type": "code",
   "execution_count": 23,
   "id": "e945477d",
   "metadata": {},
   "outputs": [
    {
     "name": "stdout",
     "output_type": "stream",
     "text": [
      "8\n"
     ]
    }
   ],
   "source": [
    "print(len(x))"
   ]
  },
  {
   "cell_type": "code",
   "execution_count": 22,
   "id": "882f71ae",
   "metadata": {},
   "outputs": [
    {
     "name": "stdout",
     "output_type": "stream",
     "text": [
      "r\n"
     ]
    }
   ],
   "source": [
    "print(x[0])"
   ]
  },
  {
   "cell_type": "code",
   "execution_count": 21,
   "id": "7fcc780b",
   "metadata": {},
   "outputs": [
    {
     "data": {
      "text/plain": [
       "2"
      ]
     },
     "execution_count": 21,
     "metadata": {},
     "output_type": "execute_result"
    }
   ],
   "source": [
    "x.index(\"j\")"
   ]
  },
  {
   "cell_type": "code",
   "execution_count": 20,
   "id": "742092b2",
   "metadata": {},
   "outputs": [
    {
     "data": {
      "text/plain": [
       "str"
      ]
     },
     "execution_count": 20,
     "metadata": {},
     "output_type": "execute_result"
    }
   ],
   "source": [
    "type(x)"
   ]
  },
  {
   "cell_type": "code",
   "execution_count": 4,
   "id": "c140a36a",
   "metadata": {},
   "outputs": [
    {
     "name": "stdout",
     "output_type": "stream",
     "text": [
      "hii\n"
     ]
    }
   ],
   "source": [
    "print(\"hii\")"
   ]
  },
  {
   "cell_type": "markdown",
   "id": "7ab1c432",
   "metadata": {},
   "source": [
    "#  good morning\n"
   ]
  },
  {
   "cell_type": "code",
   "execution_count": 1,
   "id": "6e6b5583",
   "metadata": {},
   "outputs": [
    {
     "name": "stdout",
     "output_type": "stream",
     "text": [
      "hii\n"
     ]
    }
   ],
   "source": [
    "print(\"hii\")"
   ]
  },
  {
   "cell_type": "code",
   "execution_count": 3,
   "id": "f86f8a2e",
   "metadata": {},
   "outputs": [
    {
     "ename": "SyntaxError",
     "evalue": "EOL while scanning string literal (3215480480.py, line 3)",
     "output_type": "error",
     "traceback": [
      "\u001b[1;36m  Input \u001b[1;32mIn [3]\u001b[1;36m\u001b[0m\n\u001b[1;33m    \"\"\"\"\u001b[0m\n\u001b[1;37m        \n^\u001b[0m\n\u001b[1;31mSyntaxError\u001b[0m\u001b[1;31m:\u001b[0m EOL while scanning string literal\n"
     ]
    }
   ],
   "source": [
    "\"\"\"\n",
    "    hello\n",
    "\"\"\"\"\n",
    "print(\"hiii\")"
   ]
  },
  {
   "cell_type": "code",
   "execution_count": 3,
   "id": "49eaf7ee",
   "metadata": {},
   "outputs": [
    {
     "name": "stdout",
     "output_type": "stream",
     "text": [
      "12 seconds have passed since this program ran\n"
     ]
    }
   ],
   "source": [
    "\n",
    "import time\n",
    "time.sleep(12)\n",
    "print(\"12 seconds have passed since this program ran\")\n"
   ]
  },
  {
   "cell_type": "code",
   "execution_count": 9,
   "id": "d2537a82",
   "metadata": {},
   "outputs": [
    {
     "name": "stdout",
     "output_type": "stream",
     "text": [
      "r\n"
     ]
    }
   ],
   "source": [
    "_ft=\"r\"\n",
    "print(_ft)"
   ]
  },
  {
   "cell_type": "code",
   "execution_count": 19,
   "id": "7f1cfecb",
   "metadata": {},
   "outputs": [
    {
     "name": "stdout",
     "output_type": "stream",
     "text": [
      "enter a number 1\n",
      "enter another number 2\n",
      "1 2\n",
      "100 877\n"
     ]
    }
   ],
   "source": [
    "x=int(input(\"enter a number \"))\n",
    "y=int(input(\"enter another number \"))\n",
    "print(x,y)\n",
    "x=100\n",
    "y=877\n",
    "print(x,y)\n"
   ]
  },
  {
   "cell_type": "code",
   "execution_count": 22,
   "id": "ac538507",
   "metadata": {},
   "outputs": [
    {
     "name": "stdout",
     "output_type": "stream",
     "text": [
      "12 13\n"
     ]
    }
   ],
   "source": [
    "x=12\n",
    "y=13\n",
    "x==15\n",
    "y>=15\n",
    "print(x,y)"
   ]
  },
  {
   "cell_type": "code",
   "execution_count": 36,
   "id": "4271692e",
   "metadata": {},
   "outputs": [
    {
     "name": "stdout",
     "output_type": "stream",
     "text": [
      "enter a number 90\n",
      "enter another number 90\n",
      "False\n"
     ]
    }
   ],
   "source": [
    "x=int(input(\"enter a number \"))\n",
    "y=int(input(\"enter another number \"))\n",
    "print( not x==y)"
   ]
  },
  {
   "cell_type": "code",
   "execution_count": 37,
   "id": "79db658f",
   "metadata": {},
   "outputs": [
    {
     "name": "stdout",
     "output_type": "stream",
     "text": [
      "10 2\n"
     ]
    }
   ],
   "source": [
    "x=2\n",
    "y=3\n",
    "x=10\n",
    "y-=1\n",
    "print(x,y)"
   ]
  },
  {
   "cell_type": "code",
   "execution_count": 45,
   "id": "70c5cfac",
   "metadata": {},
   "outputs": [
    {
     "name": "stdout",
     "output_type": "stream",
     "text": [
      "False\n",
      "True\n",
      "False\n",
      "False\n",
      "True\n",
      "True\n"
     ]
    }
   ],
   "source": [
    "x=10\n",
    "y=8\n",
    "print(x==y)\n",
    "print(x>y)\n",
    "print(x<y)\n",
    "print(x<=y)\n",
    "print(x>=y)\n",
    "print(x!=y)"
   ]
  },
  {
   "cell_type": "code",
   "execution_count": 55,
   "id": "8526fdfb",
   "metadata": {},
   "outputs": [
    {
     "name": "stdout",
     "output_type": "stream",
     "text": [
      "True\n"
     ]
    }
   ],
   "source": [
    "a=10\n",
    "s=12\n",
    "print(a==s or a/s<=a*s)"
   ]
  },
  {
   "cell_type": "code",
   "execution_count": 49,
   "id": "696390d6",
   "metadata": {},
   "outputs": [
    {
     "name": "stdout",
     "output_type": "stream",
     "text": [
      "False\n"
     ]
    }
   ],
   "source": [
    "a=10\n",
    "s=12\n",
    "print(a>s and s<=a)"
   ]
  },
  {
   "cell_type": "code",
   "execution_count": 56,
   "id": "b0d7b189",
   "metadata": {},
   "outputs": [
    {
     "name": "stdout",
     "output_type": "stream",
     "text": [
      "True\n"
     ]
    }
   ],
   "source": [
    "a=10\n",
    "s=12\n",
    "print(not a==s)"
   ]
  },
  {
   "cell_type": "code",
   "execution_count": 52,
   "id": "d299829b",
   "metadata": {},
   "outputs": [
    {
     "name": "stdout",
     "output_type": "stream",
     "text": [
      "True\n"
     ]
    }
   ],
   "source": [
    "a=10\n",
    "s=12\n",
    "print(not s<=a)"
   ]
  },
  {
   "cell_type": "code",
   "execution_count": 5,
   "id": "9d628a5a",
   "metadata": {},
   "outputs": [
    {
     "name": "stdout",
     "output_type": "stream",
     "text": [
      "hello\n"
     ]
    }
   ],
   "source": [
    "a=122\n",
    "c=32\n",
    "if (a>=c and a>c):\n",
    "    print(\"hello\")\n",
    "else:\n",
    "    print(\"sorry\")"
   ]
  },
  {
   "cell_type": "code",
   "execution_count": 68,
   "id": "0b23db9f",
   "metadata": {},
   "outputs": [
    {
     "name": "stdout",
     "output_type": "stream",
     "text": [
      "16 i 2 False rajani good girl False RAJANI GOOD GIRL 2 <class 'str'> False Rajani good girl ramani good girl\n"
     ]
    }
   ],
   "source": [
    "a=\"rajani good girl\"\n",
    "print(len(a),a[-3],a.index(\"j\"),a.isupper(),a.lower(),a.isdigit(),a.upper(),a.count(\"a\"),type(a),a.startswith(\"ni\"),a.capitalize(),a.replace(\"rajani\",\"ramani\"))"
   ]
  },
  {
   "cell_type": "code",
   "execution_count": 53,
   "id": "58c659f8",
   "metadata": {},
   "outputs": [
    {
     "name": "stdout",
     "output_type": "stream",
     "text": [
      "1\n"
     ]
    }
   ],
   "source": [
    "a=3\n",
    "a%=2\n",
    "print(a)\n"
   ]
  },
  {
   "cell_type": "code",
   "execution_count": 39,
   "id": "d20a1e55",
   "metadata": {},
   "outputs": [
    {
     "name": "stdout",
     "output_type": "stream",
     "text": [
      "enter a numberhkl;\n",
      "<class 'str'>\n"
     ]
    }
   ],
   "source": [
    "a=input(\"enter a number\")\n",
    "print(type(a))"
   ]
  },
  {
   "cell_type": "code",
   "execution_count": 59,
   "id": "b956cbc3",
   "metadata": {},
   "outputs": [
    {
     "name": "stdout",
     "output_type": "stream",
     "text": [
      "125\n"
     ]
    }
   ],
   "source": [
    "a=5\n",
    "a**=3\n",
    "print(a)"
   ]
  },
  {
   "cell_type": "code",
   "execution_count": 49,
   "id": "28247d92",
   "metadata": {},
   "outputs": [
    {
     "name": "stdout",
     "output_type": "stream",
     "text": [
      "2.5\n"
     ]
    }
   ],
   "source": [
    "a=2\n",
    "v=3\n",
    "print((a+v)/2)"
   ]
  },
  {
   "cell_type": "code",
   "execution_count": 51,
   "id": "ff3134b6",
   "metadata": {},
   "outputs": [
    {
     "name": "stdout",
     "output_type": "stream",
     "text": [
      "sum of these 2 number is 5\n",
      "2.5\n"
     ]
    }
   ],
   "source": [
    "a=2\n",
    "b=3\n",
    "print(\"sum of these 2 number is\",a+b)\n",
    "avg=(a+b)/2\n",
    "print(avg)"
   ]
  },
  {
   "cell_type": "code",
   "execution_count": 52,
   "id": "ab3a41ee",
   "metadata": {},
   "outputs": [
    {
     "name": "stdout",
     "output_type": "stream",
     "text": [
      "2.5\n"
     ]
    }
   ],
   "source": [
    "a=2\n",
    "b=3\n",
    "sum=a+b\n",
    "avg=sum/2\n",
    "print(avg)"
   ]
  },
  {
   "cell_type": "code",
   "execution_count": 55,
   "id": "b4a8ab50",
   "metadata": {},
   "outputs": [
    {
     "name": "stdout",
     "output_type": "stream",
     "text": [
      "remainder when number is divided by 2 is:  1\n"
     ]
    }
   ],
   "source": [
    "b=3\n",
    "print(\"remainder when number is divided by 2 is: \",b%2)"
   ]
  },
  {
   "cell_type": "code",
   "execution_count": 56,
   "id": "7c598a20",
   "metadata": {},
   "outputs": [
    {
     "name": "stdout",
     "output_type": "stream",
     "text": [
      "True\n"
     ]
    }
   ],
   "source": [
    "a=34\n",
    "b=30\n",
    "print(a>b)"
   ]
  },
  {
   "cell_type": "code",
   "execution_count": 58,
   "id": "841e4889",
   "metadata": {},
   "outputs": [
    {
     "name": "stdout",
     "output_type": "stream",
     "text": [
      "suwgsr of a is 125\n"
     ]
    }
   ],
   "source": [
    "a=5\n",
    "print(\"suwgsr of a is\",a*a*a)"
   ]
  },
  {
   "cell_type": "code",
   "execution_count": 62,
   "id": "4a6b8e97",
   "metadata": {},
   "outputs": [
    {
     "name": "stdout",
     "output_type": "stream",
     "text": [
      "rmua\n"
     ]
    }
   ],
   "source": [
    "a=\"ramkumar\"\n",
    "print(a[0:7:2])"
   ]
  },
  {
   "cell_type": "code",
   "execution_count": 81,
   "id": "c78f2424",
   "metadata": {},
   "outputs": [
    {
     "name": "stdout",
     "output_type": "stream",
     "text": [
      "7\n"
     ]
    }
   ],
   "source": [
    "a=\"rajani\\ngood \\t\\t girl\\\\ and very\\' good\\'\"\n",
    "print(a.find(\"good\"))"
   ]
  },
  {
   "cell_type": "code",
   "execution_count": 14,
   "id": "698927e5",
   "metadata": {},
   "outputs": [
    {
     "name": "stdout",
     "output_type": "stream",
     "text": [
      "5.56 1 None None\n",
      "['s', 'g', 5.56, 'good morning']\n",
      "s\n",
      "g\n",
      "5.56\n",
      "good morning\n",
      "[0.1, 1, 2, 2, 4, 34, 76]\n"
     ]
    }
   ],
   "source": [
    "a=[1,\"g\",\"m\",5.56]\n",
    "print(a[3],a.index(\"g\"),a.remove(\"m\"),a.append(\"good morning\"))\n",
    "a[0]=\"s\"\n",
    "print(a)\n",
    "for ele in a:\n",
    "    print(ele)\n",
    "a1=[2,4,1,2,76,34,00.1]\n",
    "a1.sort()\n",
    "print(a1)\n"
   ]
  },
  {
   "cell_type": "code",
   "execution_count": 21,
   "id": "939c2dcc",
   "metadata": {},
   "outputs": [
    {
     "name": "stdout",
     "output_type": "stream",
     "text": [
      "[1, 'tt', 'rat', 48, 6, 1, 3, 4, 5, 5] [1, 3, 4, 5, 5]\n"
     ]
    }
   ],
   "source": [
    "a=[1,\"tt\",\"rat\",48,6]\n",
    "a1=[1,3,4,5,5]\n",
    "a.extend(a1)\n",
    "a3=a1.copy()\n",
    "print(a,a3)"
   ]
  },
  {
   "cell_type": "code",
   "execution_count": 1,
   "id": "2f5d5ec3",
   "metadata": {},
   "outputs": [
    {
     "name": "stdout",
     "output_type": "stream",
     "text": [
      "12\n",
      "10\n"
     ]
    }
   ],
   "source": [
    "x=10\n",
    "x+=2\n",
    "print(x)\n",
    "x-=2\n",
    "print(x)"
   ]
  },
  {
   "cell_type": "code",
   "execution_count": 12,
   "id": "d0df1eb4",
   "metadata": {},
   "outputs": [
    {
     "name": "stdout",
     "output_type": "stream",
     "text": [
      "True\n"
     ]
    }
   ],
   "source": [
    "j=56\n",
    "i=100\n",
    "print(i<=j or j<=i )\n",
    "    \n",
    "        \n"
   ]
  },
  {
   "cell_type": "code",
   "execution_count": 17,
   "id": "651a3c8d",
   "metadata": {},
   "outputs": [
    {
     "name": "stdout",
     "output_type": "stream",
     "text": [
      "2\n"
     ]
    }
   ],
   "source": [
    "a=17\n",
    "a%=3\n",
    "print(a)"
   ]
  },
  {
   "cell_type": "code",
   "execution_count": 10,
   "id": "6e8b648c",
   "metadata": {},
   "outputs": [
    {
     "name": "stdout",
     "output_type": "stream",
     "text": [
      "rajani is good \t\tgirl\n"
     ]
    }
   ],
   "source": [
    "print(\"rajani is good \\t\\tgirl\")"
   ]
  },
  {
   "cell_type": "code",
   "execution_count": 23,
   "id": "a95b8d95",
   "metadata": {},
   "outputs": [
    {
     "name": "stdout",
     "output_type": "stream",
     "text": [
      "[123, 7, 6, 34, 32, 2]\n",
      "[2, 6, 7, 32, 34, 123]\n",
      "[2, 6, 7, 32, 34, 123, 'rajano']\n",
      "[2, 6, 7, 32, 34, 123, 'majaaa', 'rajano']\n",
      "[2, 6, 7, 32, 34, 123, 'majaaa']\n",
      "[2, 6, 7, 34, 123, 'majaaa']\n",
      "[6, 7, 34, 123, 'majaaa']\n"
     ]
    }
   ],
   "source": [
    "\n",
    "a=[2,32,34,6,7,123]\n",
    "a.reverse()\n",
    "print(a)\n",
    "a.sort()\n",
    "print(a)\n",
    "a.append(\"rajano\")\n",
    "print(a)\n",
    "a.insert(6,\"majaaa\")\n",
    "print(a)\n",
    "\n",
    "a.pop()\n",
    "print(a)\n",
    "a.pop(3)#it delete 2nd index number\n",
    "print(a)\n",
    "a.remove(2)\n",
    "print(a)\n",
    "\n",
    "\n",
    "\n",
    "\n",
    "\n",
    "\n",
    "\n",
    "\n",
    "\n",
    "\n"
   ]
  },
  {
   "cell_type": "code",
   "execution_count": 2,
   "id": "35cfb5a0",
   "metadata": {},
   "outputs": [
    {
     "name": "stdout",
     "output_type": "stream",
     "text": [
      "[10, 'raj']\n",
      "10\n"
     ]
    }
   ],
   "source": [
    " \n",
    "a=[10,\"raj\",101]\n",
    "print(a[0:2:1])\n",
    "print(a[0])"
   ]
  },
  {
   "cell_type": "code",
   "execution_count": 3,
   "id": "1a21a34a",
   "metadata": {},
   "outputs": [
    {
     "name": "stdout",
     "output_type": "stream",
     "text": [
      "[0.1, 1, 2, 3, 12, 23, 321]\n"
     ]
    }
   ],
   "source": [
    "a=[1,12,2,3,23,321,0.1]\n",
    "a.sort()\n",
    "print(a)"
   ]
  },
  {
   "cell_type": "code",
   "execution_count": 8,
   "id": "40b24bd4",
   "metadata": {},
   "outputs": [
    {
     "name": "stdout",
     "output_type": "stream",
     "text": [
      "[1, 12, 2, 3, 23, 321, 0.1]\n"
     ]
    }
   ],
   "source": [
    "Rajani=[1,12,2,3,23,321,0.1]\n",
    "print(Rajani)"
   ]
  },
  {
   "cell_type": "code",
   "execution_count": 18,
   "id": "8bbc2fde",
   "metadata": {},
   "outputs": [
    {
     "name": "stdout",
     "output_type": "stream",
     "text": [
      "[1, 23, 2, 3, 23]\n"
     ]
    }
   ],
   "source": [
    "a=[1,23,2,3,333,23]\n",
    "a.remove(333)\n",
    "print(a)"
   ]
  },
  {
   "cell_type": "code",
   "execution_count": 6,
   "id": "06de4c41",
   "metadata": {},
   "outputs": [
    {
     "name": "stdout",
     "output_type": "stream",
     "text": [
      "[1, 23, 'goood', 'hiii', 3, 333, 23]\n"
     ]
    }
   ],
   "source": [
    "a=[1,23,2,3,333,23]\n",
    "a.insert(3,\"hiii\")\n",
    "a[2]=\"goood\"\n",
    "print(a)\n"
   ]
  },
  {
   "cell_type": "code",
   "execution_count": 8,
   "id": "2ddc8932",
   "metadata": {},
   "outputs": [
    {
     "name": "stdout",
     "output_type": "stream",
     "text": [
      "[1, 1, 1111, 111, 'kl']\n",
      "['rajani', 'j']\n",
      "[[1, 1, 1111, 111, 'kl'], ['rajani', 'j']]\n"
     ]
    }
   ],
   "source": [
    "    a=[1,1,1111,111,\"kl\"]\n",
    "    b=list((\"rajani\",\"j\"))\n",
    "    c=[a,b]\n",
    "    print (a)\n",
    "    print(b)\n",
    "    print(c)"
   ]
  },
  {
   "cell_type": "code",
   "execution_count": 7,
   "id": "5f29e578",
   "metadata": {},
   "outputs": [
    {
     "name": "stdout",
     "output_type": "stream",
     "text": [
      "[1, 'rajani', 9, 1, 'g']\n"
     ]
    }
   ],
   "source": [
    "t1=[1,\"rajani\",9,1,\"g\"]\n",
    "t1.index(\"rajani\")\n",
    "print(t1)"
   ]
  },
  {
   "cell_type": "code",
   "execution_count": 8,
   "id": "b6907392",
   "metadata": {},
   "outputs": [
    {
     "name": "stdout",
     "output_type": "stream",
     "text": [
      "[1, 'rajani', 9, 1, 'g']\n"
     ]
    }
   ],
   "source": [
    "t1=[1,\"rajani\",9,1,\"g\"]\n",
    "t1.index(\"rajani\")\n",
    "print(t1)"
   ]
  },
  {
   "cell_type": "code",
   "execution_count": 10,
   "id": "d75bb010",
   "metadata": {},
   "outputs": [
    {
     "name": "stdout",
     "output_type": "stream",
     "text": [
      "[1222, 100, 53, 34, 13, 2, 0.1]\n"
     ]
    }
   ],
   "source": [
    "a=[1222,2,13,34,53,100,0.1]\n",
    "a.sort()\n",
    "a.reverse()\n",
    "print(a)"
   ]
  },
  {
   "cell_type": "code",
   "execution_count": 11,
   "id": "67ff3028",
   "metadata": {},
   "outputs": [
    {
     "name": "stdout",
     "output_type": "stream",
     "text": [
      "[0.1, 2, 13, 34, 53, 100, 1222]\n"
     ]
    }
   ],
   "source": [
    "a=[1222,2,13,34,53,100,0.1]\n",
    "a.sort()\n",
    "print(a)"
   ]
  },
  {
   "cell_type": "code",
   "execution_count": 12,
   "id": "9911c050",
   "metadata": {},
   "outputs": [
    {
     "name": "stdout",
     "output_type": "stream",
     "text": [
      "[1, 2, 3, 22, 3, 4, [1, 2, 3], [22, 3, 4]]\n"
     ]
    }
   ],
   "source": [
    "A=[1,2,3]\n",
    "B=[22,3,4]\n",
    "C=[A,B]\n",
    "print(A+B+C)\n"
   ]
  },
  {
   "cell_type": "code",
   "execution_count": 13,
   "id": "c001fe1c",
   "metadata": {},
   "outputs": [
    {
     "name": "stdout",
     "output_type": "stream",
     "text": [
      "6\n"
     ]
    }
   ],
   "source": [
    "l1=[1,2,3]\n",
    "sum=l1[0]+l1[1]+l1[2]\n",
    "print(sum)"
   ]
  },
  {
   "cell_type": "code",
   "execution_count": 10,
   "id": "0eb9970b",
   "metadata": {},
   "outputs": [
    {
     "name": "stdout",
     "output_type": "stream",
     "text": [
      "159827691706452\n"
     ]
    }
   ],
   "source": [
    "l1=[1,367983,434334444]\n",
    "sum=l1[0]\n",
    "sum=sum*l1[1]\n",
    "sum=sum*l1[2]\n",
    "print(sum)"
   ]
  },
  {
   "cell_type": "code",
   "execution_count": 12,
   "id": "cf573399",
   "metadata": {},
   "outputs": [
    {
     "ename": "SyntaxError",
     "evalue": "invalid syntax (4208124427.py, line 1)",
     "output_type": "error",
     "traceback": [
      "\u001b[1;36m  Input \u001b[1;32mIn [12]\u001b[1;36m\u001b[0m\n\u001b[1;33m    for(int i=3;i<=30;i+3){\u001b[0m\n\u001b[1;37m            ^\u001b[0m\n\u001b[1;31mSyntaxError\u001b[0m\u001b[1;31m:\u001b[0m invalid syntax\n"
     ]
    }
   ],
   "source": [
    "for(int i=3;i<=30;i+3){\n",
    "    print(i)    \n",
    "}\n"
   ]
  },
  {
   "cell_type": "code",
   "execution_count": 2,
   "id": "6d1f6d8b",
   "metadata": {},
   "outputs": [
    {
     "name": "stdout",
     "output_type": "stream",
     "text": [
      "228\n"
     ]
    }
   ],
   "source": [
    "l=[1,2,3,222] \n",
    "sum=0\n",
    "for i in l:\n",
    "    sum=sum+i\n",
    "print(sum)"
   ]
  },
  {
   "cell_type": "code",
   "execution_count": 17,
   "id": "91ed1c9d",
   "metadata": {},
   "outputs": [
    {
     "name": "stdout",
     "output_type": "stream",
     "text": [
      "eleven\n"
     ]
    }
   ],
   "source": [
    " a={\"name\":\"rajani\",\n",
    "     \"age\":\"eleven\",\n",
    "    \"list\":[2,3,2,22222]}\n",
    " print(a[\"age\"])\n",
    "    "
   ]
  },
  {
   "cell_type": "code",
   "execution_count": 12,
   "id": "02796983",
   "metadata": {},
   "outputs": [
    {
     "name": "stdout",
     "output_type": "stream",
     "text": [
      "fail\n"
     ]
    }
   ],
   "source": [
    "s1=10\n",
    "s2=35\n",
    "s3=100\n",
    "avg=s1+s2+s3/3\n",
    "if(s1>=33 and avg>=40 ):\n",
    "    if(s2>=33 and avg>=40):\n",
    "        if(s3>=33 and avg>=40):\n",
    "           print(\"pass\")\n",
    "else:\n",
    "    print(\"fail\")\n",
    "        "
   ]
  },
  {
   "cell_type": "code",
   "execution_count": 16,
   "id": "eb59a9aa",
   "metadata": {},
   "outputs": [
    {
     "name": "stdout",
     "output_type": "stream",
     "text": [
      "fail\n"
     ]
    }
   ],
   "source": [
    "s1=32\n",
    "s2=100\n",
    "s3=99\n",
    "avg=(s1+s2+s3)/3\n",
    "if(s1>=33 and s2>=33 and s3>=33 and avg>=40 ):\n",
    "    print(\"pass\")\n",
    "else:\n",
    "    print(\"fail\")\n",
    "        "
   ]
  },
  {
   "cell_type": "code",
   "execution_count": 1,
   "id": "8bd7c259",
   "metadata": {},
   "outputs": [
    {
     "name": "stdout",
     "output_type": "stream",
     "text": [
      "fail\n"
     ]
    }
   ],
   "source": [
    "s1=10\n",
    "s2=35\n",
    "s3=100\n",
    "avg=s1+s2+s3/3\n",
    "if(s1>=33 and avg>=40 ):\n",
    "    print(\"pass in subject 1\")\n",
    "    if(s2>=33 and avg>=40):\n",
    "        print(\"pass in sub 2\")\n",
    "        if(s3>=33 and avg>=40):\n",
    "            print(\"pass in sub 3\")\n",
    "           \n",
    "else:\n",
    "    print(\"fail\")\n",
    "    \n",
    "    \n",
    "    \n",
    "   \n",
    "    \n",
    "    \n",
    "        "
   ]
  },
  {
   "cell_type": "code",
   "execution_count": 7,
   "id": "bbd05081",
   "metadata": {},
   "outputs": [
    {
     "name": "stdout",
     "output_type": "stream",
     "text": [
      "j\n"
     ]
    }
   ],
   "source": [
    "a=[1,3,\"k\"]\n",
    "if \"k\" in a:\n",
    "    print(\"j\")\n",
    "else:\n",
    "    print(\"b\")"
   ]
  },
  {
   "cell_type": "code",
   "execution_count": 6,
   "id": "ab02b9ce",
   "metadata": {},
   "outputs": [
    {
     "name": "stdout",
     "output_type": "stream",
     "text": [
      "1\n",
      "2\n",
      "3\n",
      "4\n",
      "5\n",
      "6\n",
      "7\n",
      "8\n",
      "9\n",
      "10\n",
      "11\n",
      "12\n",
      "13\n",
      "14\n",
      "15\n",
      "16\n",
      "17\n",
      "18\n",
      "19\n",
      "20\n",
      "21\n",
      "22\n",
      "23\n",
      "24\n",
      "25\n",
      "26\n",
      "27\n",
      "28\n",
      "29\n",
      "30\n",
      "31\n",
      "32\n",
      "33\n",
      "34\n",
      "35\n",
      "36\n",
      "37\n",
      "38\n",
      "39\n",
      "40\n",
      "41\n",
      "42\n",
      "43\n",
      "44\n",
      "45\n",
      "46\n",
      "47\n",
      "48\n",
      "49\n",
      "50\n"
     ]
    }
   ],
   "source": [
    "i=1\n",
    "while(i<=50):\n",
    "    print(i)\n",
    "    i=i+1\n",
    "    "
   ]
  },
  {
   "cell_type": "code",
   "execution_count": 17,
   "id": "0b7e7f24",
   "metadata": {},
   "outputs": [
    {
     "name": "stdout",
     "output_type": "stream",
     "text": [
      "1\n",
      "9\n",
      "0\n",
      "7\n"
     ]
    },
    {
     "ename": "IndexError",
     "evalue": "list index out of range",
     "output_type": "error",
     "traceback": [
      "\u001b[1;31m---------------------------------------------------------------------------\u001b[0m",
      "\u001b[1;31mIndexError\u001b[0m                                Traceback (most recent call last)",
      "Input \u001b[1;32mIn [17]\u001b[0m, in \u001b[0;36m<cell line: 3>\u001b[1;34m()\u001b[0m\n\u001b[0;32m      2\u001b[0m i\u001b[38;5;241m=\u001b[39m\u001b[38;5;241m0\u001b[39m\n\u001b[0;32m      3\u001b[0m \u001b[38;5;28;01mwhile\u001b[39;00m(i\u001b[38;5;241m<\u001b[39m\u001b[38;5;241m=\u001b[39m\u001b[38;5;28mlen\u001b[39m(a)):\n\u001b[1;32m----> 4\u001b[0m      \u001b[38;5;28mprint\u001b[39m(\u001b[43ma\u001b[49m\u001b[43m[\u001b[49m\u001b[43mi\u001b[49m\u001b[43m]\u001b[49m)\n\u001b[0;32m      5\u001b[0m      i\u001b[38;5;241m=\u001b[39mi\u001b[38;5;241m+\u001b[39m\u001b[38;5;241m1\u001b[39m\n",
      "\u001b[1;31mIndexError\u001b[0m: list index out of range"
     ]
    }
   ],
   "source": [
    "a=[1,9,0,7]\n",
    "i=0\n",
    "while(i<=len(a)):\n",
    "     print(a[i])\n",
    "     i=i+1"
   ]
  },
  {
   "cell_type": "code",
   "execution_count": 18,
   "id": "36a64a6a",
   "metadata": {},
   "outputs": [
    {
     "name": "stdout",
     "output_type": "stream",
     "text": [
      "1\n",
      "9\n",
      "0\n",
      "7\n"
     ]
    },
    {
     "ename": "IndexError",
     "evalue": "list index out of range",
     "output_type": "error",
     "traceback": [
      "\u001b[1;31m---------------------------------------------------------------------------\u001b[0m",
      "\u001b[1;31mIndexError\u001b[0m                                Traceback (most recent call last)",
      "Input \u001b[1;32mIn [18]\u001b[0m, in \u001b[0;36m<cell line: 3>\u001b[1;34m()\u001b[0m\n\u001b[0;32m      2\u001b[0m i\u001b[38;5;241m=\u001b[39m\u001b[38;5;241m0\u001b[39m\n\u001b[0;32m      3\u001b[0m \u001b[38;5;28;01mwhile\u001b[39;00m(i\u001b[38;5;241m<\u001b[39m\u001b[38;5;241m=\u001b[39m\u001b[38;5;28mlen\u001b[39m(a)):\n\u001b[1;32m----> 4\u001b[0m      \u001b[38;5;28mprint\u001b[39m(\u001b[43ma\u001b[49m\u001b[43m[\u001b[49m\u001b[43mi\u001b[49m\u001b[43m]\u001b[49m)\n\u001b[0;32m      5\u001b[0m      i\u001b[38;5;241m=\u001b[39mi\u001b[38;5;241m+\u001b[39m\u001b[38;5;241m1\u001b[39m\n",
      "\u001b[1;31mIndexError\u001b[0m: list index out of range"
     ]
    }
   ],
   "source": [
    "a=[1,9,0,7]\n",
    "i=0\n",
    "while(i<=len(a)):\n",
    "     print(a[i])\n",
    "     i=i+1"
   ]
  },
  {
   "cell_type": "code",
   "execution_count": null,
   "id": "01c86f54",
   "metadata": {},
   "outputs": [],
   "source": [
    "for i in range(1,3,21):\n",
    "    print(\"1*\"i\"=\")\n",
    "\n"
   ]
  }
 ],
 "metadata": {
  "kernelspec": {
   "display_name": "Python 3 (ipykernel)",
   "language": "python",
   "name": "python3"
  },
  "language_info": {
   "codemirror_mode": {
    "name": "ipython",
    "version": 3
   },
   "file_extension": ".py",
   "mimetype": "text/x-python",
   "name": "python",
   "nbconvert_exporter": "python",
   "pygments_lexer": "ipython3",
   "version": "3.9.12"
  }
 },
 "nbformat": 4,
 "nbformat_minor": 5
}
